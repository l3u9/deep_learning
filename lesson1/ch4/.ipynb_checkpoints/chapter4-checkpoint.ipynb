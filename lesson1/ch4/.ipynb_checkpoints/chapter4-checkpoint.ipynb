{
 "cells": [
  {
   "cell_type": "code",
   "execution_count": 18,
   "id": "557585c9",
   "metadata": {},
   "outputs": [],
   "source": [
    "import numpy as np\n",
    "import matplotlib.pyplot as plt"
   ]
  },
  {
   "cell_type": "code",
   "execution_count": 19,
   "id": "7ebd1ca1",
   "metadata": {},
   "outputs": [],
   "source": [
    "# 평균 제곱 오차\n",
    "def sum_squares_error(y, t):\n",
    "    return 0.5 * np.sum((y-t)**2)"
   ]
  },
  {
   "cell_type": "code",
   "execution_count": 20,
   "id": "9afd4dcb",
   "metadata": {},
   "outputs": [
    {
     "name": "stdout",
     "output_type": "stream",
     "text": [
      "0.09750000000000003\n",
      "0.5975\n"
     ]
    }
   ],
   "source": [
    "t = [0,0,1,0,0,0,0,0,0,0]\n",
    "y = [0.1, 0.05, 0.6, 0.0, 0.05, 0.1, 0.0, 0.1, 0.0, 0.0]\n",
    "print(sum_squares_error(np.array(y), np.array(t)))\n",
    "y = [0.1, 0.05, 0.1, 0.0, 0.05, 0.1, 0.0, 0.6, 0.0, 0.0]\n",
    "print(sum_squares_error(np.array(y), np.array(t)))"
   ]
  },
  {
   "cell_type": "code",
   "execution_count": 21,
   "id": "4397e59d",
   "metadata": {},
   "outputs": [],
   "source": [
    "# 교차 엔트로피 오차\n",
    "def cross_entropy_error(y, t):\n",
    "    delta = 1e-7\n",
    "    return -np.sum(t*np.log(y+delta))\n",
    "\n",
    "# log(0)은 inf기 때문에 임의의 작은 값 delta를 더함"
   ]
  },
  {
   "cell_type": "code",
   "execution_count": 22,
   "id": "77b60cf3",
   "metadata": {},
   "outputs": [
    {
     "name": "stdout",
     "output_type": "stream",
     "text": [
      "0.510825457099338\n",
      "2.302584092994546\n"
     ]
    }
   ],
   "source": [
    "t = [0,0,1,0,0,0,0,0,0,0]\n",
    "y = [0.1, 0.05, 0.6, 0.0, 0.05, 0.1, 0.0, 0.1, 0.0, 0.0]\n",
    "print(cross_entropy_error(np.array(y), np.array(t)))\n",
    "y = [0.1, 0.05, 0.1, 0.0, 0.05, 0.1, 0.0, 0.6, 0.0, 0.0]\n",
    "print(cross_entropy_error(np.array(y), np.array(t)))"
   ]
  },
  {
   "cell_type": "code",
   "execution_count": 23,
   "id": "f04174e0",
   "metadata": {},
   "outputs": [
    {
     "name": "stdout",
     "output_type": "stream",
     "text": [
      "(60000, 784)\n",
      "(60000, 10)\n"
     ]
    }
   ],
   "source": [
    "import sys, os\n",
    "sys.path.append(os.pardir)\n",
    "import numpy as np\n",
    "from dataset.mnist import load_mnist\n",
    "\n",
    "(x_train, t_train), (x_test, t_test) = load_mnist(normalize=True, one_hot_label = True)\n",
    "print(x_train.shape)\n",
    "print(t_train.shape)"
   ]
  },
  {
   "cell_type": "code",
   "execution_count": 24,
   "id": "462a5161",
   "metadata": {},
   "outputs": [
    {
     "name": "stdout",
     "output_type": "stream",
     "text": [
      "train_size:  60000\n",
      "[14905 43276 36564 19226 10053 22303  7714 52253   815 49672]\n",
      "10\n",
      "10\n"
     ]
    }
   ],
   "source": [
    "train_size = x_train.shape[0]\n",
    "print(\"train_size: \", train_size)\n",
    "batch_size = 10\n",
    "batch_mask = np.random.choice(train_size, batch_size)\n",
    "print(batch_mask)\n",
    "x_batch = x_train[batch_mask]\n",
    "t_batch = t_train[batch_mask]\n",
    "print(len(x_batch))\n",
    "print(len(t_batch))"
   ]
  },
  {
   "cell_type": "code",
   "execution_count": 25,
   "id": "da2b6189",
   "metadata": {},
   "outputs": [],
   "source": [
    "#배치용 교차 엔트로피 구현\n",
    "def cross_entropy_error(y, t):\n",
    "    if y.dim == 1:\n",
    "        t = t.reshape(1,t.size)\n",
    "        y = y.reshape(1, y.size)\n",
    "    \n",
    "    batch_size = y.shape[0]\n",
    "    return -np.sum(t*np.log(y+ 1e-7)) / batch_size"
   ]
  },
  {
   "cell_type": "code",
   "execution_count": 26,
   "id": "6297e6ff",
   "metadata": {},
   "outputs": [],
   "source": [
    "# 원 핫 인코딩이 아닌 숫자 레이블로 주어졌을 때 엔트로피 오차\n",
    "def cross_entropy_error(y,t):\n",
    "    if y.dim == 1:\n",
    "        t = t.reshape(1,t.size)\n",
    "        y = y.reshape(1, y.size)\n",
    "    \n",
    "    batch_size = y.shape[0]\n",
    "    return -np.sum(np.log(y[np.arange(batch_size), t] + 1e-7)) / batch_size"
   ]
  },
  {
   "cell_type": "markdown",
   "id": "2d64c874",
   "metadata": {},
   "source": [
    "### 수지해석"
   ]
  },
  {
   "cell_type": "code",
   "execution_count": 27,
   "id": "8e0e46bd",
   "metadata": {},
   "outputs": [],
   "source": [
    "def function_1(x):\n",
    "    return 0.01*x**2 + 0.1*x"
   ]
  },
  {
   "cell_type": "code",
   "execution_count": 28,
   "id": "d83a2ed2",
   "metadata": {},
   "outputs": [],
   "source": [
    "def numerical_diff(f, x):\n",
    "    h = 1e-4\n",
    "    return (f(x+h) - f(x-h)) / (2*h)"
   ]
  },
  {
   "cell_type": "code",
   "execution_count": 29,
   "id": "d7d4b96a",
   "metadata": {},
   "outputs": [
    {
     "data": {
      "image/png": "[encoded data removed]",
      "text/plain": [
       "<Figure size 640x480 with 1 Axes>"
      ]
     },
     "metadata": {},
     "output_type": "display_data"
    }
   ],
   "source": [
    "\n",
    "import numpy as np\n",
    "import matplotlib.pylab as plt\n",
    "\n",
    "x = np.arange(0.0, 20.0, 0.1)\n",
    "y = function_1(x)\n",
    "\n",
    "plt.xlabel(\"x\")\n",
    "plt.ylabel(\"f(x)\")\n",
    "plt.plot(x, y)\n",
    "plt.show()"
   ]
  },
  {
   "cell_type": "code",
   "execution_count": 30,
   "id": "fa104e6b",
   "metadata": {
    "scrolled": true
   },
   "outputs": [
    {
     "name": "stdout",
     "output_type": "stream",
     "text": [
      "0.1999999999990898\n",
      "0.2999999999986347\n"
     ]
    }
   ],
   "source": [
    "print(numerical_diff(function_1, 5))\n",
    "print(numerical_diff(function_1, 10))"
   ]
  },
  {
   "cell_type": "code",
   "execution_count": 31,
   "id": "e456b233",
   "metadata": {},
   "outputs": [],
   "source": [
    "def numerical_gradient(f, x):\n",
    "    h = 1e-4\n",
    "    grad = np.zeros_like(x)\n",
    "    \n",
    "    for idx in range(x.size):\n",
    "        tmp_val = x[idx]\n",
    "        \n",
    "        x[idx] = tmp_val + h\n",
    "        fxh1 = f(x)\n",
    "        \n",
    "        x[idx] = tmp_val - h\n",
    "        fxh2 = f(x)\n",
    "        \n",
    "        grad[idx] = (fxh1 - fxh2) / (2*h)\n",
    "        x[idx] = tmp_val\n",
    "        \n",
    "    return grad"
   ]
  },
  {
   "cell_type": "code",
   "execution_count": 32,
   "id": "ce97269b",
   "metadata": {},
   "outputs": [],
   "source": [
    "# 경사 하강법\n",
    "def gradient_descent(f, init_x, lr=0.01, step_num=100):\n",
    "    x = init_x\n",
    "    \n",
    "    for i in range(step_num):\n",
    "        grad = numerical_gradient(f, x)\n",
    "        x -= lr * grad\n",
    "    return x"
   ]
  },
  {
   "cell_type": "code",
   "execution_count": 34,
   "id": "bb421ea0",
   "metadata": {},
   "outputs": [
    {
     "data": {
      "text/plain": [
       "array([-6.11110793e-10,  8.14814391e-10])"
      ]
     },
     "execution_count": 34,
     "metadata": {},
     "output_type": "execute_result"
    }
   ],
   "source": [
    "def function_2(x):\n",
    "    return x[0]**2 + x[1]**2\n",
    "init_x = np.array([-3.0, 4.0])\n",
    "gradient_descent(function_2, init_x=init_x, lr=0.1, step_num=100)"
   ]
  },
  {
   "cell_type": "code",
   "execution_count": 35,
   "id": "49be7243",
   "metadata": {},
   "outputs": [
    {
     "data": {
      "text/plain": [
       "array([-2.58983747e+13, -1.29524862e+12])"
      ]
     },
     "execution_count": 35,
     "metadata": {},
     "output_type": "execute_result"
    }
   ],
   "source": [
    "#학습률이 너무 큰 경우\n",
    "init_x = np.array([-3.0, 4.0])\n",
    "gradient_descent(function_2, init_x =init_x, lr=10.0, step_num =100)"
   ]
  },
  {
   "cell_type": "code",
   "execution_count": 36,
   "id": "c2286270",
   "metadata": {},
   "outputs": [
    {
     "data": {
      "text/plain": [
       "array([-2.99999994,  3.99999992])"
      ]
     },
     "execution_count": 36,
     "metadata": {},
     "output_type": "execute_result"
    }
   ],
   "source": [
    "# 학습률이 너무 작은 경우\n",
    "init_x = np.array([-3.0, 4.0])\n",
    "gradient_descent(function_2, init_x =init_x, lr=1e-10, step_num=100)"
   ]
  },
  {
   "cell_type": "markdown",
   "id": "0dbe735b",
   "metadata": {},
   "source": [
    "### 신경망에서의 기울기"
   ]
  },
  {
   "cell_type": "code",
   "execution_count": 37,
   "id": "b1377e9f",
   "metadata": {},
   "outputs": [],
   "source": [
    "import sys, os\n",
    "sys.path.append(os.pardir)\n",
    "import numpy as np\n",
    "from common.functions import softmax, cross_entropy_error\n",
    "from common.gradient import numerical_gradient"
   ]
  },
  {
   "cell_type": "code",
   "execution_count": 38,
   "id": "6ae5e04b",
   "metadata": {},
   "outputs": [],
   "source": [
    "class simpleNet:\n",
    "    def __init__(self):\n",
    "        self.W = np.random.randn(2,3)\n",
    "        \n",
    "    def predict(self, x):\n",
    "        return np.dot(x, self.W)\n",
    "    \n",
    "    def loss(self, x, t):\n",
    "        z = self.predict(x)\n",
    "        y = softmax(z)\n",
    "        loss = cross_entropy_error(y, t)\n",
    "        \n",
    "        return loss\n",
    "    "
   ]
  },
  {
   "cell_type": "code",
   "execution_count": 39,
   "id": "b79e152e",
   "metadata": {},
   "outputs": [
    {
     "name": "stdout",
     "output_type": "stream",
     "text": [
      "[[ 0.59403114  0.36981512 -0.92585671]\n",
      " [ 0.85497708  0.74506903 -0.74845305]]\n",
      "[ 1.12589806  0.8924512  -1.22912177]\n"
     ]
    }
   ],
   "source": [
    "net = simpleNet()\n",
    "print(net.W)\n",
    "x = np.array([0.6, 0.9])\n",
    "p = net.predict(x)\n",
    "print(p)\n"
   ]
  },
  {
   "cell_type": "code",
   "execution_count": 40,
   "id": "c85ecea0",
   "metadata": {},
   "outputs": [
    {
     "data": {
      "text/plain": [
       "0"
      ]
     },
     "execution_count": 40,
     "metadata": {},
     "output_type": "execute_result"
    }
   ],
   "source": [
    "np.argmax(p)"
   ]
  },
  {
   "cell_type": "code",
   "execution_count": 41,
   "id": "ea94666b",
   "metadata": {},
   "outputs": [
    {
     "data": {
      "text/plain": [
       "2.989842494898648"
      ]
     },
     "execution_count": 41,
     "metadata": {},
     "output_type": "execute_result"
    }
   ],
   "source": [
    "t = np.array([0, 0, 1])\n",
    "net.loss(x, t)"
   ]
  },
  {
   "cell_type": "code",
   "execution_count": 42,
   "id": "b48b47f4",
   "metadata": {},
   "outputs": [],
   "source": [
    "def f(W):\n",
    "    return net.loss(x, t)"
   ]
  },
  {
   "cell_type": "code",
   "execution_count": 43,
   "id": "87a3add0",
   "metadata": {},
   "outputs": [
    {
     "name": "stdout",
     "output_type": "stream",
     "text": [
      "[[ 0.31801642  0.2518053  -0.56982171]\n",
      " [ 0.47702463  0.37770794 -0.85473257]]\n"
     ]
    }
   ],
   "source": [
    "dW = numerical_gradient(f, net.W)\n",
    "print(dW)"
   ]
  },
  {
   "cell_type": "code",
   "execution_count": 44,
   "id": "9e88c955",
   "metadata": {},
   "outputs": [
    {
     "name": "stdout",
     "output_type": "stream",
     "text": [
      "[[ 0.31801642  0.2518053  -0.56982171]\n",
      " [ 0.47702463  0.37770794 -0.85473257]]\n"
     ]
    }
   ],
   "source": [
    "f = lambda w: net.loss(x, t)\n",
    "dW = numerical_gradient(f, net.W)\n",
    "print(dW)"
   ]
  },
  {
   "cell_type": "markdown",
   "id": "e2453837",
   "metadata": {},
   "source": [
    "### 학습 알고리즘 구현하기\n",
    "<br>\n",
    "1단계 - 미니배치<br>\n",
    "    훈련 데이터 중 일부를 무작위로 가져온다. 이렇게 선별한 데이터를 미니배치라 하며, 그 미니배치의 손실 함수 값을 줄이는 것이 목표다.<br>\n",
    "2단계 - 기울기 산출<br>\n",
    "    미니배치의 손실 함수 값을 줄이기 위해 각 가중치 매개변수의 기울기를 구한다. 기울기는 손실 함수의 값을 가장 작게하는 방향을 제시한다.<br>\n",
    "3단계 - 배개변수 갱신<br>\n",
    "    가중치 매개변수를 기울기 방향으로 아주 조금 갱신한다.<br>\n",
    "4단계 - 반복<br>\n",
    "    1~3단계를 반복한다<br>"
   ]
  },
  {
   "cell_type": "code",
   "execution_count": 45,
   "id": "e0f98e43",
   "metadata": {},
   "outputs": [],
   "source": [
    "# 2층 신경망 클래스 구현하기\n",
    "import sys, os\n",
    "sys.path.append(os.pardir)\n",
    "from common.functions import *\n",
    "from common.gradient import numerical_gradient\n",
    "\n",
    "class TwoLayerNet:\n",
    "    def __init__(self, input_size, hidden_size, output_size, weight_init_std=0.01):\n",
    "        self.params = {}\n",
    "        self.params['W1'] = weight_init_std * np.random.randn(input_size, hidden_size)\n",
    "        self.params['b1'] = np.zeros(hidden_size)\n",
    "        self.params['W2'] = weight_init_std * np.random.randn(hidden_size, output_size)\n",
    "        self.params['b2'] = np.zeros(output_size)\n",
    "        \n",
    "    def predict(self, x):\n",
    "        W1, W2 = self.params['W1'], self.params['W2']\n",
    "        b1, b2 = self.params['b1'], self.params['b2']\n",
    "        \n",
    "        a1 = np.dot(x, W1) + b1\n",
    "        z1 = sigmoid(a1)\n",
    "        a2 = np.dot(z1, W2) + b2\n",
    "        y = softmax(a2)\n",
    "        \n",
    "        return y\n",
    "    \n",
    "    def loss(self, x, t):\n",
    "        y = self.predict(x)\n",
    "        return cross_entropy_error(y, t)\n",
    "    \n",
    "    def accuracy(self, x, t):\n",
    "        y = self.predict(x)\n",
    "        y = np.argmax(y, axis = 1)\n",
    "        t = np.argmax(t, axis = 1)\n",
    "        \n",
    "        accuracy = np.sum(y == t) / float(x.shape[0])\n",
    "        return accuracy\n",
    "    \n",
    "    def numerical_gradient(self, x, t):\n",
    "        loss_W = lambda W: self.loss(x, t)\n",
    "        \n",
    "        grads = {}\n",
    "        grads['W1'] = numerical_gradient(loss_W, self.params[\"W1\"])\n",
    "        grads['b1'] = numerical_gradient(loss_W, self.params[\"b1\"])\n",
    "        grads['W2'] = numerical_gradient(loss_W, self.params[\"W2\"])\n",
    "        grads['b2'] = numerical_gradient(loss_W, self.params[\"b2\"])\n",
    "        \n",
    "        return grads\n",
    "    "
   ]
  },
  {
   "cell_type": "code",
   "execution_count": 46,
   "id": "c733420b",
   "metadata": {},
   "outputs": [
    {
     "name": "stdout",
     "output_type": "stream",
     "text": [
      "(784, 100)\n",
      "(100,)\n",
      "(100, 10)\n",
      "(10,)\n"
     ]
    }
   ],
   "source": [
    "net = TwoLayerNet(input_size = 784, hidden_size=100, output_size=10)\n",
    "print(net.params['W1'].shape)\n",
    "print(net.params['b1'].shape)\n",
    "print(net.params['W2'].shape)\n",
    "print(net.params['b2'].shape)"
   ]
  },
  {
   "cell_type": "code",
   "execution_count": 47,
   "id": "b1fbfda4",
   "metadata": {},
   "outputs": [
    {
     "name": "stdout",
     "output_type": "stream",
     "text": [
      "(100, 784)\n",
      "[[0.10517329 0.09655005 0.10708122 0.10185137 0.10095238 0.09374385\n",
      "  0.10327021 0.09700945 0.09954143 0.09482677]\n",
      " [0.10529966 0.09644103 0.10721016 0.10195998 0.10104354 0.09343522\n",
      "  0.10333942 0.09682056 0.09972326 0.09472719]\n",
      " [0.10521838 0.09683181 0.10688353 0.10148775 0.1007895  0.09349906\n",
      "  0.10297593 0.09724771 0.09965516 0.09541117]\n",
      " [0.10508407 0.09674205 0.1072756  0.10173503 0.10062415 0.09335248\n",
      "  0.10311791 0.09722392 0.0998183  0.09502648]\n",
      " [0.10509249 0.09660297 0.10708757 0.10157082 0.10078007 0.09340246\n",
      "  0.10342802 0.09729606 0.09980062 0.09493893]\n",
      " [0.1052415  0.09662536 0.10730772 0.10139017 0.10106352 0.09335904\n",
      "  0.10331274 0.09707844 0.09968404 0.09493747]\n",
      " [0.10522631 0.09668528 0.10745675 0.10176603 0.10099099 0.09303036\n",
      "  0.10312753 0.09701919 0.09953072 0.09516683]\n",
      " [0.10526605 0.09693569 0.10717973 0.10143048 0.10094843 0.09329698\n",
      "  0.10296351 0.09734943 0.09947423 0.09515546]\n",
      " [0.1055984  0.09648774 0.1069502  0.10178284 0.10094032 0.09325702\n",
      "  0.10297095 0.09715318 0.09971363 0.09514572]\n",
      " [0.10513968 0.09656494 0.10723076 0.1016473  0.10084785 0.09355499\n",
      "  0.10307057 0.09713364 0.09975738 0.09505291]\n",
      " [0.10529869 0.09690175 0.10742328 0.10136524 0.10065336 0.09318268\n",
      "  0.10321695 0.09716044 0.0996828  0.09511482]\n",
      " [0.10542978 0.0965351  0.1070872  0.1015165  0.10117579 0.09346816\n",
      "  0.10295225 0.09696907 0.09958309 0.09528305]\n",
      " [0.10536099 0.09669073 0.10712976 0.10166273 0.1009338  0.09345352\n",
      "  0.10324314 0.09686548 0.0994495  0.09521034]\n",
      " [0.10487187 0.09705719 0.1075674  0.10138364 0.10101545 0.09293658\n",
      "  0.10315341 0.09752089 0.09966734 0.09482624]\n",
      " [0.10558079 0.09668768 0.10709291 0.10189219 0.10075907 0.09333096\n",
      "  0.10293969 0.09682111 0.09961611 0.09527948]\n",
      " [0.10531565 0.09656551 0.10729507 0.10202895 0.10074194 0.09335726\n",
      "  0.10326373 0.09707085 0.09946209 0.09489894]\n",
      " [0.10550359 0.0964893  0.10724032 0.1016296  0.10117792 0.09337785\n",
      "  0.10321584 0.09677847 0.09927319 0.09531392]\n",
      " [0.10532049 0.0967658  0.10742323 0.10159042 0.10088681 0.09343946\n",
      "  0.10336525 0.09679628 0.0995689  0.09484336]\n",
      " [0.10549385 0.09642743 0.10696906 0.10192671 0.10085568 0.09310345\n",
      "  0.10286846 0.09736097 0.09966838 0.09532601]\n",
      " [0.10541881 0.09623078 0.10712964 0.10191716 0.10116259 0.09329949\n",
      "  0.10292128 0.09705251 0.09947195 0.09539579]\n",
      " [0.10509078 0.09685725 0.10733711 0.1018907  0.10096528 0.0935795\n",
      "  0.10279324 0.09701399 0.09964324 0.0948289 ]\n",
      " [0.10525148 0.09686793 0.10718741 0.1013832  0.10063914 0.09350494\n",
      "  0.10315194 0.09737105 0.09957164 0.09507128]\n",
      " [0.10512469 0.09623433 0.10711877 0.10180356 0.1011666  0.09331791\n",
      "  0.10322545 0.09681991 0.09980515 0.09538361]\n",
      " [0.1054962  0.09639265 0.10712313 0.10191841 0.10073568 0.09365172\n",
      "  0.10308906 0.09692215 0.09966961 0.0950014 ]\n",
      " [0.1051666  0.09667941 0.10724372 0.10160695 0.10075021 0.09339175\n",
      "  0.10306139 0.09725147 0.09975041 0.09509809]\n",
      " [0.10509862 0.09671761 0.10743173 0.10174526 0.10060502 0.09343505\n",
      "  0.10283617 0.09745388 0.09957917 0.09509749]\n",
      " [0.10501906 0.09671787 0.10697749 0.10204537 0.10102624 0.09316443\n",
      "  0.10323958 0.09724295 0.09966827 0.09489873]\n",
      " [0.10505829 0.09637218 0.1073817  0.10159445 0.10109014 0.09350778\n",
      "  0.10305587 0.09695327 0.09970404 0.09528227]\n",
      " [0.10509782 0.09701887 0.10692392 0.10203464 0.10088064 0.09323779\n",
      "  0.10323912 0.09684987 0.09953049 0.09518684]\n",
      " [0.10554674 0.0968109  0.10737102 0.10181915 0.10083951 0.09351806\n",
      "  0.10319521 0.09668709 0.09929426 0.09491805]\n",
      " [0.10549833 0.09641476 0.10711897 0.10190068 0.10094351 0.09347588\n",
      "  0.10334275 0.09687283 0.09942249 0.0950098 ]\n",
      " [0.10516707 0.0967521  0.107151   0.10141679 0.10101249 0.09323872\n",
      "  0.10331088 0.09718495 0.09953072 0.09523529]\n",
      " [0.10545886 0.09647847 0.10740848 0.10157897 0.10107709 0.0932383\n",
      "  0.10322268 0.09696114 0.09968818 0.09488783]\n",
      " [0.10547449 0.09628539 0.10702524 0.10217341 0.1006375  0.09340833\n",
      "  0.10349098 0.09696034 0.09960527 0.09493907]\n",
      " [0.1051643  0.09647349 0.10720063 0.10192161 0.10087814 0.09362928\n",
      "  0.10342493 0.09699237 0.09937864 0.0949366 ]\n",
      " [0.10508101 0.09657917 0.10708377 0.10217637 0.1008811  0.09320591\n",
      "  0.10339466 0.09698595 0.09945413 0.09515793]\n",
      " [0.10539998 0.09680471 0.10715064 0.10144109 0.10054326 0.09358767\n",
      "  0.10319322 0.09723861 0.09939393 0.09524689]\n",
      " [0.10524876 0.09626022 0.10677289 0.10217117 0.10073939 0.09337367\n",
      "  0.103314   0.09728304 0.09947783 0.09535902]\n",
      " [0.10520034 0.09654423 0.10720162 0.10162724 0.10087731 0.09317591\n",
      "  0.10296112 0.09716558 0.09991232 0.09533434]\n",
      " [0.10536327 0.09668424 0.10721107 0.10171591 0.10077962 0.09352052\n",
      "  0.1031308  0.0968476  0.09962988 0.09511708]\n",
      " [0.105181   0.0967924  0.10716761 0.10164865 0.10106067 0.09360331\n",
      "  0.10326442 0.09717094 0.0994003  0.09471069]\n",
      " [0.10526239 0.09652741 0.10685702 0.10197884 0.10110388 0.0934568\n",
      "  0.10304901 0.09703444 0.09953264 0.09519757]\n",
      " [0.10545662 0.09669692 0.1073342  0.1019095  0.1008345  0.09326351\n",
      "  0.10312962 0.09692623 0.09945132 0.09499758]\n",
      " [0.10532391 0.09671969 0.10720306 0.10177569 0.10096419 0.09346923\n",
      "  0.10276726 0.0968801  0.09951861 0.09537827]\n",
      " [0.10573115 0.09655208 0.10726547 0.10179511 0.10040448 0.09353188\n",
      "  0.1032353  0.09697971 0.09953961 0.09496521]\n",
      " [0.10555108 0.09665049 0.10735904 0.10188182 0.10077218 0.09331924\n",
      "  0.10303609 0.09679528 0.09975655 0.09487824]\n",
      " [0.1052511  0.09627752 0.10711764 0.10180908 0.10115743 0.09343699\n",
      "  0.10318905 0.09698428 0.09953946 0.09523744]\n",
      " [0.10503765 0.09663943 0.10719855 0.10176823 0.10087946 0.0936601\n",
      "  0.10326372 0.09700902 0.09935568 0.09518817]\n",
      " [0.10515998 0.09675738 0.10741144 0.10180831 0.10068111 0.09361551\n",
      "  0.10315555 0.09705695 0.09958174 0.09477203]\n",
      " [0.10533592 0.09674004 0.10721863 0.10153726 0.10110729 0.09335234\n",
      "  0.10307112 0.09673514 0.09962195 0.09528031]\n",
      " [0.10496156 0.0966065  0.10737254 0.10220422 0.10084443 0.09333277\n",
      "  0.10289417 0.09704933 0.099675   0.09505948]\n",
      " [0.10492973 0.09634651 0.10710172 0.101591   0.10100376 0.09349688\n",
      "  0.10326917 0.09717906 0.09975052 0.09533165]\n",
      " [0.10527113 0.0965784  0.10734025 0.10164689 0.10075023 0.09316341\n",
      "  0.10314039 0.0969857  0.09954947 0.09557413]\n",
      " [0.10531785 0.09673713 0.10692196 0.10160257 0.10105792 0.09337448\n",
      "  0.10313343 0.09700684 0.09937782 0.09547002]\n",
      " [0.10526506 0.09663138 0.10746402 0.10188076 0.10083266 0.09361975\n",
      "  0.10305053 0.09705956 0.09926371 0.09493257]\n",
      " [0.10523526 0.09646393 0.10722493 0.10187599 0.10101134 0.09350289\n",
      "  0.10278421 0.09728469 0.09944482 0.09517193]\n",
      " [0.10518637 0.09663255 0.10719198 0.10135227 0.10100793 0.09336653\n",
      "  0.10356367 0.09688355 0.09938219 0.09543296]\n",
      " [0.10509567 0.09660544 0.10701899 0.10195069 0.10091765 0.09321107\n",
      "  0.1029977  0.09734881 0.09944536 0.09540863]\n",
      " [0.10517802 0.09655479 0.10716279 0.10190273 0.10111068 0.09325688\n",
      "  0.1032641  0.09698181 0.09967602 0.09491216]\n",
      " [0.10557275 0.09641125 0.10696338 0.10194318 0.10099135 0.09328963\n",
      "  0.10307077 0.09692682 0.0997483  0.09508257]\n",
      " [0.10503246 0.09673881 0.10710476 0.10175329 0.10095258 0.09357296\n",
      "  0.10301896 0.09713327 0.09958192 0.095111  ]\n",
      " [0.10505314 0.09634142 0.10724761 0.10208799 0.10097646 0.09325839\n",
      "  0.10312036 0.09733761 0.09957863 0.09499837]\n",
      " [0.10502867 0.0969241  0.10718025 0.10184718 0.10103918 0.09335783\n",
      "  0.10287453 0.09724041 0.09932367 0.09518415]\n",
      " [0.10523161 0.0963626  0.10679769 0.10223573 0.10130925 0.09317351\n",
      "  0.1029334  0.09701305 0.0995744  0.09536875]\n",
      " [0.10529252 0.09648234 0.10689682 0.10162258 0.10081875 0.09375815\n",
      "  0.10327908 0.09713906 0.09938815 0.09532254]\n",
      " [0.10528435 0.09640662 0.10718974 0.10209795 0.10057839 0.09369439\n",
      "  0.10339604 0.09701316 0.09935569 0.09498366]\n",
      " [0.10536303 0.09677612 0.10705673 0.1012132  0.10092029 0.09350419\n",
      "  0.10348292 0.09709638 0.09931197 0.09527516]\n",
      " [0.10501447 0.09690728 0.10736005 0.10164822 0.10083193 0.09363048\n",
      "  0.10312157 0.09708829 0.09947468 0.09492303]\n",
      " [0.10555837 0.09658414 0.10714664 0.10187497 0.10075369 0.09367912\n",
      "  0.1030723  0.0970422  0.09943064 0.09485795]\n",
      " [0.10546011 0.09673492 0.10713921 0.10169185 0.10114578 0.09323328\n",
      "  0.10341039 0.09673825 0.09928559 0.09516063]\n",
      " [0.10518325 0.09657777 0.10701589 0.10196894 0.10098498 0.09361319\n",
      "  0.1031547  0.09687706 0.09953237 0.09509184]\n",
      " [0.10557058 0.09645742 0.10715233 0.10192957 0.10102394 0.09338347\n",
      "  0.10299433 0.09696799 0.09928363 0.09523673]\n",
      " [0.10517692 0.09669816 0.10712797 0.10176383 0.10097705 0.09325564\n",
      "  0.1030526  0.09742339 0.0992525  0.09527194]\n",
      " [0.10533812 0.09646652 0.10714178 0.10202272 0.10106237 0.09344395\n",
      "  0.10294758 0.09711373 0.09944385 0.09501938]\n",
      " [0.10548456 0.0965565  0.10757552 0.10156729 0.10084934 0.09344557\n",
      "  0.10267232 0.09730584 0.09962644 0.09491662]\n",
      " [0.10518507 0.09665815 0.10730033 0.10182522 0.10095202 0.09335277\n",
      "  0.10307282 0.09703793 0.09942857 0.09518712]\n",
      " [0.1055647  0.09651172 0.10686714 0.10183428 0.10097949 0.09321217\n",
      "  0.10296186 0.09741268 0.09942331 0.09523265]\n",
      " [0.10529203 0.09661796 0.10725028 0.10199595 0.100884   0.09317955\n",
      "  0.10304228 0.09714756 0.0994377  0.09515269]\n",
      " [0.10506106 0.09666491 0.10755765 0.10153769 0.10101366 0.09322838\n",
      "  0.10313771 0.09717944 0.09967168 0.09494783]\n",
      " [0.10548075 0.09647041 0.10725201 0.10156821 0.10093294 0.09329816\n",
      "  0.10345787 0.09673754 0.09939185 0.09541027]\n",
      " [0.10521937 0.09671355 0.10715825 0.10155218 0.10093246 0.09333486\n",
      "  0.10297586 0.09727067 0.09971363 0.09512918]\n",
      " [0.10525228 0.09673903 0.10696794 0.1017055  0.10102039 0.09338905\n",
      "  0.10320982 0.09704891 0.09939826 0.09526882]\n",
      " [0.10548473 0.09640268 0.10721101 0.10159713 0.10101239 0.09347967\n",
      "  0.10311742 0.09699452 0.09950896 0.09519149]\n",
      " [0.10561787 0.09683731 0.10714141 0.10150426 0.1006727  0.09354093\n",
      "  0.10318868 0.0971725  0.09960866 0.09471566]\n",
      " [0.10487319 0.09696262 0.10716737 0.10180069 0.10053286 0.09331518\n",
      "  0.10327702 0.09708565 0.09973924 0.09524617]\n",
      " [0.10536592 0.0966698  0.10730021 0.10181264 0.10080941 0.09344759\n",
      "  0.10327331 0.09711133 0.09912676 0.09508304]\n",
      " [0.10543792 0.0967204  0.10743387 0.10175651 0.10074098 0.09352227\n",
      "  0.10303942 0.09694192 0.09960969 0.09479702]\n",
      " [0.10520172 0.09653862 0.10710355 0.10187321 0.10080606 0.09303137\n",
      "  0.1031962  0.09713844 0.0996725  0.09543835]\n",
      " [0.10494884 0.09645766 0.10723342 0.10211291 0.10090177 0.09385733\n",
      "  0.10292991 0.09701765 0.09949571 0.09504479]\n",
      " [0.10520416 0.09660625 0.10747716 0.10155841 0.100773   0.09331742\n",
      "  0.10310781 0.09720912 0.0994867  0.09525997]\n",
      " [0.10519795 0.09672509 0.10718168 0.10195536 0.10099779 0.09337515\n",
      "  0.10277817 0.09681618 0.09969535 0.09527728]\n",
      " [0.1051274  0.0968461  0.10693621 0.10171622 0.10117415 0.09357221\n",
      "  0.10325239 0.09709064 0.09943475 0.09484993]\n",
      " [0.10556108 0.09635442 0.10731148 0.10155698 0.10076484 0.09338452\n",
      "  0.10356354 0.09705851 0.09943838 0.09500626]\n",
      " [0.10516438 0.09675483 0.10734527 0.10178121 0.10084238 0.09332785\n",
      "  0.10292576 0.09723348 0.09948454 0.0951403 ]\n",
      " [0.10560247 0.09637155 0.10698417 0.10168765 0.1009363  0.09331169\n",
      "  0.10306813 0.09704409 0.09994414 0.09504982]\n",
      " [0.10560131 0.09664336 0.10721671 0.10139111 0.1010243  0.09348126\n",
      "  0.10326888 0.09702617 0.0994178  0.09492909]\n",
      " [0.10519596 0.0962853  0.10721421 0.10201862 0.10105104 0.09334856\n",
      "  0.1031978  0.09713578 0.09966691 0.09488581]\n",
      " [0.10533312 0.09668322 0.10734774 0.10182622 0.10071046 0.09344792\n",
      "  0.10297988 0.09720651 0.09941105 0.09505387]\n",
      " [0.10528197 0.09680245 0.10682135 0.10148029 0.10117283 0.09316535\n",
      "  0.10330449 0.09723735 0.09941302 0.09532091]\n",
      " [0.10509442 0.09643809 0.10688315 0.10204806 0.10100363 0.0935102\n",
      "  0.10308224 0.09712563 0.09969253 0.09512206]]\n"
     ]
    }
   ],
   "source": [
    "x = np.random.rand(100, 784)\n",
    "print(x.shape)\n",
    "y = net.predict(x)\n",
    "print(y)"
   ]
  },
  {
   "cell_type": "code",
   "execution_count": 48,
   "id": "9104f1a6",
   "metadata": {},
   "outputs": [
    {
     "name": "stdout",
     "output_type": "stream",
     "text": [
      "(784, 100)\n",
      "(100,)\n",
      "(100, 10)\n",
      "(10,)\n"
     ]
    }
   ],
   "source": [
    "x = np.random.rand(100, 784)\n",
    "t = np.random.rand(100, 10)\n",
    "\n",
    "grads = net.numerical_gradient(x, t)\n",
    "print(grads['W1'].shape)\n",
    "print(grads['b1'].shape)\n",
    "print(grads['W2'].shape)\n",
    "print(grads['b2'].shape)"
   ]
  },
  {
   "cell_type": "code",
   "execution_count": 49,
   "id": "7bc746f6",
   "metadata": {},
   "outputs": [
    {
     "ename": "SyntaxError",
     "evalue": "invalid syntax (2481662668.py, line 5)",
     "output_type": "error",
     "traceback": [
      "\u001b[0;36m  File \u001b[0;32m\"/var/folders/39/2knbgcdd14xfvt_5n7_wl0dh0000gn/T/ipykernel_23918/2481662668.py\"\u001b[0;36m, line \u001b[0;32m5\u001b[0m\n\u001b[0;31m    (x_train, t_train) , (x_test, t_test) = load_mnist(normalize=True, one_hot_label= = True)\u001b[0m\n\u001b[0m                                                                                      ^\u001b[0m\n\u001b[0;31mSyntaxError\u001b[0m\u001b[0;31m:\u001b[0m invalid syntax\n"
     ]
    }
   ],
   "source": [
    "# 미니배치 학습 구현\n",
    "import numpy as np\n",
    "from dataset.mnist import load_mnist\n",
    "\n",
    "(x_train, t_train) , (x_test, t_test) = load_mnist(normalize=True, one_hot_label= = True)\n",
    "\n",
    "train_loss_list = []\n",
    "\n",
    "iters_num = 10000\n",
    "train_size = x_train.shape[0]\n",
    "batch_size = 100\n",
    "lr = 0.1\n",
    "\n",
    "network = TwoLayerNet(input_size=28*28, hidden_size=50, output_size=10)\n",
    "\n",
    "\n",
    "for i in range(iters_num):\n",
    "    batch_mask = np.random.choice(train_size, batch_size)\n",
    "    x_batch = x_train[batch_mask]\n",
    "    t_batch = t_train[batch_mask]\n",
    "    \n",
    "    grad = network.numerical_gradient(x_batch, t_batch)\n",
    "    \n",
    "    for key in ('W1', 'b1', 'W2', 'b2'):\n",
    "        network.params[key] -= lr * grad[key]\n",
    "    \n",
    "    loss = network.loss(x_batch, t_batch)\n",
    "    train_loss_list.append(loss)\n",
    "    "
   ]
  },
  {
   "cell_type": "code",
   "execution_count": null,
   "id": "10780cb9",
   "metadata": {},
   "outputs": [],
   "source": []
  }
 ],
 "metadata": {
  "kernelspec": {
   "display_name": "Python 3 (ipykernel)",
   "language": "python",
   "name": "python3"
  },
  "language_info": {
   "codemirror_mode": {
    "name": "ipython",
    "version": 3
   },
   "file_extension": ".py",
   "mimetype": "text/x-python",
   "name": "python",
   "nbconvert_exporter": "python",
   "pygments_lexer": "ipython3",
   "version": "3.9.13"
  }
 },
 "nbformat": 4,
 "nbformat_minor": 5
}
