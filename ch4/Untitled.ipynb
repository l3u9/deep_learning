{
 "cells": [
  {
   "cell_type": "code",
   "execution_count": 38,
   "id": "557585c9",
   "metadata": {},
   "outputs": [],
   "source": [
    "import numpy as np\n",
    "import matplotlib.pyplot as plt"
   ]
  },
  {
   "cell_type": "code",
   "execution_count": 39,
   "id": "7ebd1ca1",
   "metadata": {},
   "outputs": [],
   "source": [
    "# 평균 제곱 오차\n",
    "def sum_squares_error(y, t):\n",
    "    return 0.5 * np.sum((y-t)**2)"
   ]
  },
  {
   "cell_type": "code",
   "execution_count": 40,
   "id": "9afd4dcb",
   "metadata": {},
   "outputs": [
    {
     "name": "stdout",
     "output_type": "stream",
     "text": [
      "0.09750000000000003\n",
      "0.5975\n"
     ]
    }
   ],
   "source": [
    "t = [0,0,1,0,0,0,0,0,0,0]\n",
    "y = [0.1, 0.05, 0.6, 0.0, 0.05, 0.1, 0.0, 0.1, 0.0, 0.0]\n",
    "print(sum_squares_error(np.array(y), np.array(t)))\n",
    "y = [0.1, 0.05, 0.1, 0.0, 0.05, 0.1, 0.0, 0.6, 0.0, 0.0]\n",
    "print(sum_squares_error(np.array(y), np.array(t)))"
   ]
  },
  {
   "cell_type": "code",
   "execution_count": 41,
   "id": "4397e59d",
   "metadata": {},
   "outputs": [],
   "source": [
    "# 교차 엔트로피 오차\n",
    "def cross_entropy_error(y, t):\n",
    "    delta = 1e-7\n",
    "    return -np.sum(t*np.log(y+delta))\n",
    "\n",
    "# log(0)은 inf기 때문에 임의의 작은 값 delta를 더함"
   ]
  },
  {
   "cell_type": "code",
   "execution_count": 42,
   "id": "77b60cf3",
   "metadata": {},
   "outputs": [
    {
     "name": "stdout",
     "output_type": "stream",
     "text": [
      "0.510825457099338\n",
      "2.302584092994546\n"
     ]
    }
   ],
   "source": [
    "t = [0,0,1,0,0,0,0,0,0,0]\n",
    "y = [0.1, 0.05, 0.6, 0.0, 0.05, 0.1, 0.0, 0.1, 0.0, 0.0]\n",
    "print(cross_entropy_error(np.array(y), np.array(t)))\n",
    "y = [0.1, 0.05, 0.1, 0.0, 0.05, 0.1, 0.0, 0.6, 0.0, 0.0]\n",
    "print(cross_entropy_error(np.array(y), np.array(t)))"
   ]
  },
  {
   "cell_type": "code",
   "execution_count": 43,
   "id": "f04174e0",
   "metadata": {},
   "outputs": [
    {
     "name": "stdout",
     "output_type": "stream",
     "text": [
      "(60000, 784)\n",
      "(60000, 10)\n"
     ]
    }
   ],
   "source": [
    "import sys, os\n",
    "sys.path.append(os.pardir)\n",
    "import numpy as np\n",
    "from dataset.mnist import load_mnist\n",
    "\n",
    "(x_train, t_train), (x_test, t_test) = load_mnist(normalize=True, one_hot_label = True)\n",
    "print(x_train.shape)\n",
    "print(t_train.shape)"
   ]
  },
  {
   "cell_type": "code",
   "execution_count": 44,
   "id": "462a5161",
   "metadata": {},
   "outputs": [
    {
     "name": "stdout",
     "output_type": "stream",
     "text": [
      "train_size:  60000\n",
      "[ 8707 36733 50189 47272 30765 44535 48976 36706  8069 39603]\n",
      "10\n",
      "10\n"
     ]
    }
   ],
   "source": [
    "train_size = x_train.shape[0]\n",
    "print(\"train_size: \", train_size)\n",
    "batch_size = 10\n",
    "batch_mask = np.random.choice(train_size, batch_size)\n",
    "print(batch_mask)\n",
    "x_batch = x_train[batch_mask]\n",
    "t_batch = t_train[batch_mask]\n",
    "print(len(x_batch))\n",
    "print(len(t_batch))"
   ]
  },
  {
   "cell_type": "code",
   "execution_count": 45,
   "id": "da2b6189",
   "metadata": {},
   "outputs": [],
   "source": [
    "#배치용 교차 엔트로피 구현\n",
    "def cross_entropy_error(y, t):\n",
    "    if y.dim == 1:\n",
    "        t = t.reshape(1,t.size)\n",
    "        y = y.reshape(1, y.size)\n",
    "    \n",
    "    batch_size = y.shape[0]\n",
    "    return -np.sum(t*np.log(y+ 1e-7)) / batch_size"
   ]
  },
  {
   "cell_type": "code",
   "execution_count": 46,
   "id": "6297e6ff",
   "metadata": {},
   "outputs": [],
   "source": [
    "# 원 핫 인코딩이 아닌 숫자 레이블로 주어졌을 때 엔트로피 오차\n",
    "def cross_entropy_error(y,t):\n",
    "    if y.dim == 1:\n",
    "        t = t.reshape(1,t.size)\n",
    "        y = y.reshape(1, y.size)\n",
    "    \n",
    "    batch_size = y.shape[0]\n",
    "    return -np.sum(np.log(y[np.arange(batch_size), t] + 1e-7)) / batch_size"
   ]
  },
  {
   "cell_type": "markdown",
   "id": "2d64c874",
   "metadata": {},
   "source": [
    "### 수지해석"
   ]
  },
  {
   "cell_type": "code",
   "execution_count": 47,
   "id": "8e0e46bd",
   "metadata": {},
   "outputs": [],
   "source": [
    "def function_1(x):\n",
    "    return 0.01*x**2 + 0.1*x"
   ]
  },
  {
   "cell_type": "code",
   "execution_count": 48,
   "id": "d83a2ed2",
   "metadata": {},
   "outputs": [],
   "source": [
    "def numerical_diff(f, x):\n",
    "    h = 1e-4\n",
    "    return (f(x+h) - f(x-h)) / (2*h)"
   ]
  },
  {
   "cell_type": "code",
   "execution_count": 49,
   "id": "d7d4b96a",
   "metadata": {},
   "outputs": [
    {
     "data": {
      "image/png": "[encoded data removed]",
      "text/plain": [
       "<Figure size 640x480 with 1 Axes>"
      ]
     },
     "metadata": {},
     "output_type": "display_data"
    }
   ],
   "source": [
    "\n",
    "import numpy as np\n",
    "import matplotlib.pylab as plt\n",
    "\n",
    "x = np.arange(0.0, 20.0, 0.1)\n",
    "y = function_1(x)\n",
    "\n",
    "plt.xlabel(\"x\")\n",
    "plt.ylabel(\"f(x)\")\n",
    "plt.plot(x, y)\n",
    "plt.show()"
   ]
  },
  {
   "cell_type": "code",
   "execution_count": 50,
   "id": "fa104e6b",
   "metadata": {
    "scrolled": true
   },
   "outputs": [
    {
     "name": "stdout",
     "output_type": "stream",
     "text": [
      "0.1999999999990898\n",
      "0.2999999999986347\n"
     ]
    }
   ],
   "source": [
    "print(numerical_diff(function_1, 5))\n",
    "print(numerical_diff(function_1, 10))"
   ]
  },
  {
   "cell_type": "code",
   "execution_count": 51,
   "id": "e456b233",
   "metadata": {},
   "outputs": [],
   "source": [
    "def numerical_gradient(f, x):\n",
    "    h = 1e-4\n",
    "    grad = np.zeros_like(x)\n",
    "    \n",
    "    for idx in range(x.size):\n",
    "        tmp_val = x[idx]\n",
    "        \n",
    "        x[idx] = tmp_val + h\n",
    "        fxh1 = f(x)\n",
    "        \n",
    "        x[idx] = tmp_val - h\n",
    "        fxh2 = f(x)\n",
    "        \n",
    "        grad[idx] = (fxh1 - fxh2) / (2*h)\n",
    "        x[idx] = tmp_val\n",
    "        \n",
    "    return grad"
   ]
  },
  {
   "cell_type": "code",
   "execution_count": 52,
   "id": "ce97269b",
   "metadata": {},
   "outputs": [],
   "source": [
    "# 경사 하강법\n",
    "def gradient_descent(f, init_x, lr=0.01, step_num=100):\n",
    "    x = init_x\n",
    "    \n",
    "    for i in range(step_num):\n",
    "        grad = numerical_gradient(f, x)\n",
    "        x -= lr * grad\n",
    "    return x"
   ]
  },
  {
   "cell_type": "code",
   "execution_count": 53,
   "id": "bb421ea0",
   "metadata": {},
   "outputs": [
    {
     "data": {
      "text/plain": [
       "array([-6.11110793e-10,  8.14814391e-10])"
      ]
     },
     "execution_count": 53,
     "metadata": {},
     "output_type": "execute_result"
    }
   ],
   "source": [
    "def function_2(x):\n",
    "    return x[0]**2 + x[1]**2\n",
    "init_x = np.array([-3.0, 4.0])\n",
    "gradient_Descent(function_2, init_x=init_x, lr=0.1, step_num=100)"
   ]
  },
  {
   "cell_type": "code",
   "execution_count": 54,
   "id": "49be7243",
   "metadata": {},
   "outputs": [
    {
     "data": {
      "text/plain": [
       "array([-2.58983747e+13, -1.29524862e+12])"
      ]
     },
     "execution_count": 54,
     "metadata": {},
     "output_type": "execute_result"
    }
   ],
   "source": [
    "#학습률이 너무 큰 경우\n",
    "init_x = np.array([-3.0, 4.0])\n",
    "gradient_descent(function_2, init_x =init_x, lr=10.0, step_num =100)"
   ]
  },
  {
   "cell_type": "code",
   "execution_count": 55,
   "id": "c2286270",
   "metadata": {},
   "outputs": [
    {
     "data": {
      "text/plain": [
       "array([-2.99999994,  3.99999992])"
      ]
     },
     "execution_count": 55,
     "metadata": {},
     "output_type": "execute_result"
    }
   ],
   "source": [
    "# 학습률이 너무 작은 경우\n",
    "init_x = np.array([-3.0, 4.0])\n",
    "gradient_descent(function_2, init_x =init_x, lr=1e-10, step_num=100)"
   ]
  },
  {
   "cell_type": "markdown",
   "id": "0dbe735b",
   "metadata": {},
   "source": [
    "### 신경망에서의 기울기"
   ]
  },
  {
   "cell_type": "code",
   "execution_count": 57,
   "id": "b1377e9f",
   "metadata": {},
   "outputs": [],
   "source": [
    "import sys, os\n",
    "sys.path.append(os.pardir)\n",
    "import numpy as np\n",
    "from common.functions import softmax, cross_entropy_error\n",
    "from common.gradient import numerical_gradient"
   ]
  },
  {
   "cell_type": "code",
   "execution_count": 58,
   "id": "6ae5e04b",
   "metadata": {},
   "outputs": [],
   "source": [
    "class simpleNet:\n",
    "    def __init__(self):\n",
    "        self.W = np.random.randn(2,3)\n",
    "        \n",
    "    def predict(self, x):\n",
    "        return np.dot(x, self.W)\n",
    "    \n",
    "    def loss(self, x, t):\n",
    "        z = self.predict(x)\n",
    "        y = softmax(z)\n",
    "        loss = cross_entropy_error(y, t)\n",
    "        \n",
    "        return loss\n",
    "    "
   ]
  },
  {
   "cell_type": "code",
   "execution_count": 64,
   "id": "b79e152e",
   "metadata": {},
   "outputs": [
    {
     "name": "stdout",
     "output_type": "stream",
     "text": [
      "[[ 0.14808295 -1.10999296 -0.60324929]\n",
      " [ 1.50696988  1.57118965  0.94031278]]\n",
      "[1.44512266 0.7480749  0.48433192]\n"
     ]
    }
   ],
   "source": [
    "net = simpleNet()\n",
    "print(net.W)\n",
    "x = np.array([0.6, 0.9])\n",
    "p = net.predict(x)\n",
    "print(p)\n"
   ]
  },
  {
   "cell_type": "code",
   "execution_count": 66,
   "id": "c85ecea0",
   "metadata": {},
   "outputs": [
    {
     "data": {
      "text/plain": [
       "0"
      ]
     },
     "execution_count": 66,
     "metadata": {},
     "output_type": "execute_result"
    }
   ],
   "source": [
    "np.argmax(p)"
   ]
  },
  {
   "cell_type": "code",
   "execution_count": 67,
   "id": "ea94666b",
   "metadata": {},
   "outputs": [
    {
     "data": {
      "text/plain": [
       "1.5924043814563602"
      ]
     },
     "execution_count": 67,
     "metadata": {},
     "output_type": "execute_result"
    }
   ],
   "source": [
    "t = np.array([0, 0, 1])\n",
    "net.loss(x, t)"
   ]
  },
  {
   "cell_type": "code",
   "execution_count": 68,
   "id": "b48b47f4",
   "metadata": {},
   "outputs": [],
   "source": [
    "def f(W):\n",
    "    return net.loss(x, t)"
   ]
  },
  {
   "cell_type": "code",
   "execution_count": 69,
   "id": "87a3add0",
   "metadata": {},
   "outputs": [
    {
     "name": "stdout",
     "output_type": "stream",
     "text": [
      "[[ 0.31903953  0.15889876 -0.47793829]\n",
      " [ 0.4785593   0.23834814 -0.71690744]]\n"
     ]
    }
   ],
   "source": [
    "dW = numerical_gradient(f, net.W)\n",
    "print(dW)"
   ]
  },
  {
   "cell_type": "code",
   "execution_count": 71,
   "id": "9e88c955",
   "metadata": {},
   "outputs": [
    {
     "name": "stdout",
     "output_type": "stream",
     "text": [
      "[[ 0.31903953  0.15889876 -0.47793829]\n",
      " [ 0.4785593   0.23834814 -0.71690744]]\n"
     ]
    }
   ],
   "source": [
    "f = lambda w: net.loss(x, t)\n",
    "dW = numerical_gradient(f, net.W)\n",
    "print(dW)"
   ]
  },
  {
   "cell_type": "markdown",
   "id": "e2453837",
   "metadata": {},
   "source": [
    "### 학습 알고리즘 구현하기\n",
    "<br>\n",
    "1단계 - 미니배치<br>\n",
    "    훈련 데이터 중 일부를 무작위로 가져온다. 이렇게 선별한 데이터를 미니배치라 하며, 그 미니배치의 손실 함수 값을 줄이는 것이 목표다.<br>\n",
    "2단계 - 기울기 산출<br>\n",
    "    미니배치의 손실 함수 값을 줄이기 위해 각 가중치 매개변수의 기울기를 구한다. 기울기는 손실 함수의 값을 가장 작게하는 방향을 제시한다.<br>\n",
    "3단계 - 배개변수 갱신<br>\n",
    "    가중치 매개변수를 기울기 방향으로 아주 조금 갱신한다.<br>\n",
    "4단계 - 반복<br>\n",
    "    1~3단계를 반복한다<br>"
   ]
  },
  {
   "cell_type": "code",
   "execution_count": 72,
   "id": "e0f98e43",
   "metadata": {},
   "outputs": [],
   "source": [
    "# 2층 신경망 클래스 구현하기\n",
    "import sys, os\n",
    "sys.path.append(os.pardir)\n",
    "from common.functions import *\n",
    "from common.gradient import numerical_gradient\n",
    "\n",
    "class TwoLayerNet:\n",
    "    def __init__(self, input_size, hidden_size, output_size, weight_init_std=0.01):\n",
    "        self.params = {}\n",
    "        self.params['W1'] = weight_init_std * np.random.randn(input_size, hidden_size)\n",
    "        self.params['b1'] = np.zeros(hidden_size)\n",
    "        self.params['W2'] = weight_init_std * np.random.randn(hidden_size, output_size)\n",
    "        self.params['b2'] = np.zeros(output_size)\n",
    "        \n",
    "    def predict(self, x):\n",
    "        W1, W2 = self.params['W1'], self.params['W2']\n",
    "        b1, b2 = self.params['b1'], self.params['b2']\n",
    "        \n",
    "        a1 = np.dot(x, W1) + b1\n",
    "        z1 = sigmoid(a1)\n",
    "        a2 = np.dot(z1, W2) + b2\n",
    "        y = softmax(a2)\n",
    "        \n",
    "        return y\n",
    "    \n",
    "    def loss(self, x, t):\n",
    "        y = self.predict(x)\n",
    "        return cross_entropy_error(y, t)\n",
    "    \n",
    "    def accuracy(self, x, t):\n",
    "        y = self.predict(x)\n",
    "        y = np.argmax(y, axis = 1)\n",
    "        t = np.argmax(t, axis = 1)\n",
    "        \n",
    "        accuracy = np.sum(y == t) / float(x.shape[0])\n",
    "        return accuracy\n",
    "    \n",
    "    def numerical_gradient(self, x, t):\n",
    "        loss_W = lambda W: self.loss(x, t)\n",
    "        \n",
    "        grads = {}\n",
    "        grads['W1'] = numerical_gradient(loss_W, self.params[\"W1\"])\n",
    "        grads['b1'] = numerical_gradient(loss_W, self.params[\"b1\"])\n",
    "        grads['W2'] = numerical_gradient(loss_W, self.params[\"W2\"])\n",
    "        grads['b2'] = numerical_gradient(loss_W, self.params[\"b2\"])\n",
    "        \n",
    "        return grads\n",
    "    "
   ]
  },
  {
   "cell_type": "code",
   "execution_count": 74,
   "id": "c733420b",
   "metadata": {},
   "outputs": [
    {
     "name": "stdout",
     "output_type": "stream",
     "text": [
      "(784, 100)\n",
      "(100,)\n",
      "(100, 10)\n",
      "(10,)\n"
     ]
    }
   ],
   "source": [
    "net = TwoLayerNet(input_size = 784, hidden_size=100, output_size=10)\n",
    "print(net.params['W1'].shape)\n",
    "print(net.params['b1'].shape)\n",
    "print(net.params['W2'].shape)\n",
    "print(net.params['b2'].shape)"
   ]
  },
  {
   "cell_type": "code",
   "execution_count": 76,
   "id": "b1fbfda4",
   "metadata": {},
   "outputs": [
    {
     "name": "stdout",
     "output_type": "stream",
     "text": [
      "(100, 784)\n",
      "[[0.09384111 0.10398323 0.09945715 0.09384104 0.09507535 0.09957715\n",
      "  0.10611823 0.10743726 0.09707705 0.10359243]\n",
      " [0.0939586  0.10336803 0.0994615  0.09423509 0.09529679 0.0993669\n",
      "  0.10633393 0.1069881  0.09742987 0.10356119]\n",
      " [0.09385723 0.10396732 0.09986841 0.09411089 0.09504818 0.09939525\n",
      "  0.10654024 0.10679132 0.09713631 0.10328486]\n",
      " [0.09368675 0.10397729 0.09991561 0.0937595  0.09549499 0.09899728\n",
      "  0.10607223 0.10709257 0.09747485 0.10352892]\n",
      " [0.09361891 0.10403677 0.10022495 0.09388908 0.095175   0.09909258\n",
      "  0.10622202 0.10696375 0.09678926 0.10398771]\n",
      " [0.09413218 0.10345448 0.1000493  0.09389036 0.09523681 0.09947063\n",
      "  0.10598837 0.10703901 0.09692713 0.10381172]\n",
      " [0.09364768 0.10367758 0.10016132 0.09390147 0.09531451 0.0996557\n",
      "  0.10614997 0.10702213 0.09690219 0.10356744]\n",
      " [0.09393422 0.10373579 0.09964046 0.09404774 0.09513785 0.09918306\n",
      "  0.1058865  0.10753091 0.09716768 0.10373578]\n",
      " [0.09366336 0.10371904 0.09999817 0.09414383 0.09555633 0.09912081\n",
      "  0.1058483  0.10702852 0.09719939 0.10372226]\n",
      " [0.09368752 0.10362896 0.09996334 0.09401807 0.09506172 0.09944098\n",
      "  0.10603176 0.10719257 0.09752998 0.10344509]\n",
      " [0.09375822 0.1036662  0.10018699 0.09407488 0.095295   0.09954648\n",
      "  0.10565166 0.10706417 0.09716189 0.1035945 ]\n",
      " [0.09379672 0.10345682 0.10043751 0.09446212 0.09521495 0.09918253\n",
      "  0.10599319 0.10701374 0.09703621 0.10340621]\n",
      " [0.0937129  0.10352766 0.09985241 0.09437099 0.09521538 0.09913513\n",
      "  0.1061476  0.10727571 0.09712831 0.1036339 ]\n",
      " [0.09401873 0.10388708 0.1003021  0.093965   0.0949774  0.09965722\n",
      "  0.1057607  0.10662104 0.09738221 0.10342852]\n",
      " [0.09408813 0.10360737 0.09967584 0.09404707 0.09559496 0.09929404\n",
      "  0.1062372  0.10703331 0.09682907 0.10359302]\n",
      " [0.09385486 0.10376419 0.09995107 0.09423744 0.09533197 0.09901097\n",
      "  0.10599935 0.10700415 0.09765551 0.1031905 ]\n",
      " [0.09373069 0.10361456 0.09971596 0.0941468  0.09543707 0.09873674\n",
      "  0.10613708 0.10729371 0.09711449 0.10407289]\n",
      " [0.09382386 0.10360837 0.10016571 0.09406915 0.09508299 0.09964787\n",
      "  0.1062317  0.10673068 0.09676046 0.1038792 ]\n",
      " [0.09353036 0.10349885 0.0996795  0.09424405 0.09531554 0.099204\n",
      "  0.10611938 0.10730523 0.09723268 0.10387042]\n",
      " [0.09356178 0.1039877  0.10011993 0.09406046 0.09513951 0.09939192\n",
      "  0.1062368  0.106677   0.09704734 0.10377756]\n",
      " [0.09384659 0.10374746 0.09990304 0.0943896  0.0952531  0.09914957\n",
      "  0.1060582  0.10675503 0.09697647 0.10392094]\n",
      " [0.09352539 0.10376057 0.09982554 0.09410829 0.09528197 0.09908481\n",
      "  0.10597963 0.10726822 0.09720245 0.10396313]\n",
      " [0.09350999 0.10345822 0.09997807 0.09391977 0.09509422 0.09931561\n",
      "  0.10660163 0.10705293 0.09735557 0.103714  ]\n",
      " [0.09351906 0.10369868 0.09995404 0.09436274 0.09533391 0.09925563\n",
      "  0.10574553 0.10677428 0.09746992 0.1038862 ]\n",
      " [0.09382989 0.10357985 0.0997773  0.09404003 0.09514412 0.09927644\n",
      "  0.10620039 0.10719146 0.09726974 0.10369077]\n",
      " [0.09374005 0.10355016 0.10022242 0.09403461 0.09560207 0.09926912\n",
      "  0.10595551 0.10695533 0.09691578 0.10375495]\n",
      " [0.09371134 0.10355414 0.10017989 0.09416757 0.09504602 0.09959557\n",
      "  0.10649117 0.10659126 0.0972594  0.10340364]\n",
      " [0.09379412 0.10357867 0.09993111 0.09391955 0.09536246 0.09959301\n",
      "  0.10592983 0.10712793 0.09715376 0.10360956]\n",
      " [0.09383486 0.10355628 0.0998757  0.09406859 0.0954923  0.09961956\n",
      "  0.10584555 0.10708179 0.09720409 0.10342128]\n",
      " [0.09402763 0.10367055 0.09973688 0.09405071 0.09534615 0.09941751\n",
      "  0.10600678 0.10718675 0.09705811 0.10349893]\n",
      " [0.09384105 0.10362034 0.09990866 0.09422162 0.0950571  0.09915091\n",
      "  0.10628112 0.10701602 0.09727176 0.10363142]\n",
      " [0.09389467 0.10367739 0.10003942 0.09444602 0.09513429 0.09937129\n",
      "  0.10579626 0.10695702 0.09693709 0.10374655]\n",
      " [0.09363962 0.10344437 0.09996797 0.09424638 0.09504295 0.09946396\n",
      "  0.10607723 0.10713179 0.09709795 0.1038878 ]\n",
      " [0.09398805 0.1034712  0.10019445 0.09401169 0.09528347 0.09923818\n",
      "  0.10604692 0.10694741 0.09713168 0.10368696]\n",
      " [0.09385076 0.10330618 0.10013228 0.09393265 0.09539473 0.09965695\n",
      "  0.10645606 0.10660567 0.09709596 0.10356876]\n",
      " [0.09361625 0.10355218 0.10030205 0.09444615 0.09523703 0.09953687\n",
      "  0.10598514 0.10683667 0.09708349 0.10340416]\n",
      " [0.09396062 0.10396406 0.10004465 0.09410871 0.09557086 0.09921012\n",
      "  0.10558133 0.1068693  0.09685095 0.10383939]\n",
      " [0.09372272 0.10370203 0.09984523 0.09402781 0.09543699 0.09949681\n",
      "  0.10599267 0.10690451 0.09724608 0.10362516]\n",
      " [0.09385441 0.10355127 0.09997425 0.09398697 0.09525973 0.0995106\n",
      "  0.10575882 0.1071467  0.09741195 0.10354531]\n",
      " [0.09380633 0.10375884 0.09987224 0.09414951 0.09489355 0.09914567\n",
      "  0.1061038  0.10719989 0.09741527 0.1036549 ]\n",
      " [0.09358995 0.10338965 0.10000215 0.09416587 0.09532235 0.09935288\n",
      "  0.10603192 0.10715912 0.0971194  0.10386671]\n",
      " [0.09368671 0.1037317  0.10021794 0.09422325 0.09528799 0.09943323\n",
      "  0.10608414 0.1069301  0.09678557 0.10361937]\n",
      " [0.09384941 0.10376673 0.10004604 0.09383337 0.09518278 0.09956629\n",
      "  0.10587003 0.10718137 0.09706613 0.10363787]\n",
      " [0.09359286 0.10346086 0.10025772 0.09392608 0.095201   0.09912518\n",
      "  0.10596571 0.10735446 0.09740161 0.10371452]\n",
      " [0.09362068 0.10378059 0.10026283 0.09410447 0.09538608 0.09913071\n",
      "  0.10615167 0.10678905 0.09713444 0.10363949]\n",
      " [0.09375223 0.1033726  0.10060986 0.09404911 0.09528272 0.09926183\n",
      "  0.10610434 0.10685555 0.09707808 0.10363369]\n",
      " [0.09391183 0.10384281 0.09949797 0.09428478 0.09524423 0.09936919\n",
      "  0.1059949  0.10715668 0.09713942 0.10355819]\n",
      " [0.09384684 0.10373543 0.09960029 0.09415968 0.09507314 0.09946744\n",
      "  0.10647765 0.10717645 0.09690898 0.10355411]\n",
      " [0.09369815 0.10380036 0.09996271 0.093947   0.09535455 0.09931971\n",
      "  0.10563952 0.10714196 0.09721572 0.10392032]\n",
      " [0.09394675 0.10400391 0.10000761 0.09401101 0.09533347 0.09924101\n",
      "  0.10613268 0.10675915 0.09718805 0.10337636]\n",
      " [0.09366833 0.10375557 0.09998913 0.09377567 0.09528815 0.09983408\n",
      "  0.10595826 0.10702979 0.09710659 0.10359444]\n",
      " [0.09409041 0.10393149 0.09939608 0.09402234 0.09533388 0.09916513\n",
      "  0.10619469 0.10708985 0.0972611  0.10351503]\n",
      " [0.0937582  0.10367021 0.10005074 0.0938943  0.0953519  0.09909403\n",
      "  0.10597075 0.10716624 0.09727636 0.10376725]\n",
      " [0.09393216 0.10355677 0.0997627  0.09420139 0.09530169 0.09937867\n",
      "  0.10621315 0.10710286 0.0969449  0.1036057 ]\n",
      " [0.09403564 0.10368264 0.09999056 0.09420197 0.09507641 0.09949445\n",
      "  0.10611585 0.10678271 0.09702721 0.10359256]\n",
      " [0.09364732 0.10346979 0.09976938 0.09418615 0.09516522 0.09968493\n",
      "  0.10628108 0.10719708 0.09705102 0.10354804]\n",
      " [0.09398873 0.10356678 0.0995983  0.09412415 0.09505029 0.09952215\n",
      "  0.10625464 0.10702242 0.09706179 0.10381074]\n",
      " [0.09375504 0.10398761 0.0995914  0.09401452 0.09511998 0.09905973\n",
      "  0.10601197 0.1071715  0.09736367 0.10392457]\n",
      " [0.09362101 0.10368822 0.10014744 0.09416952 0.09521671 0.099144\n",
      "  0.10622449 0.10711547 0.09720584 0.10346729]\n",
      " [0.09378415 0.10389115 0.09966516 0.09399563 0.09535289 0.09944523\n",
      "  0.10590428 0.10704265 0.09716311 0.10375575]\n",
      " [0.09391892 0.1033234  0.10021813 0.09383008 0.09539089 0.0997081\n",
      "  0.10612357 0.10696723 0.0969527  0.10356698]\n",
      " [0.09368531 0.10348362 0.10015539 0.09422241 0.09517061 0.09932811\n",
      "  0.10627485 0.10689319 0.09726545 0.10352104]\n",
      " [0.0937926  0.10383678 0.09983403 0.09392777 0.09525933 0.09933686\n",
      "  0.10593255 0.10693191 0.09720816 0.10394001]\n",
      " [0.09403838 0.10370491 0.09945758 0.09410263 0.09514175 0.09927961\n",
      "  0.10619219 0.10718083 0.09709537 0.10380675]\n",
      " [0.09405387 0.10368001 0.10012886 0.09391978 0.09544615 0.09924556\n",
      "  0.1062186  0.1067428  0.09711619 0.10344819]\n",
      " [0.09388724 0.1036897  0.10015526 0.09395094 0.0950729  0.09945271\n",
      "  0.10604315 0.10698117 0.09704938 0.10371755]\n",
      " [0.0938742  0.10361175 0.09982245 0.09382789 0.09540646 0.09953941\n",
      "  0.10607599 0.10685407 0.09713583 0.10385196]\n",
      " [0.09366864 0.10373258 0.09984224 0.09387711 0.09538458 0.09932247\n",
      "  0.10609556 0.10717777 0.09702354 0.1038755 ]\n",
      " [0.09393491 0.10389024 0.10014483 0.09403509 0.09521922 0.09964672\n",
      "  0.1057248  0.10703356 0.09708713 0.1032835 ]\n",
      " [0.09367605 0.10400652 0.09989696 0.09403388 0.09523593 0.09924389\n",
      "  0.10590054 0.10736918 0.0968496  0.10378744]\n",
      " [0.09384734 0.10347949 0.09991997 0.09396418 0.09521803 0.09915818\n",
      "  0.10609413 0.10728974 0.09713099 0.10389794]\n",
      " [0.0937787  0.1037654  0.10007934 0.09407003 0.0951017  0.09955082\n",
      "  0.1060473  0.10688791 0.09711771 0.10360109]\n",
      " [0.09372299 0.10353381 0.10025035 0.09428737 0.09519363 0.09953952\n",
      "  0.10574783 0.10682871 0.09732152 0.10357427]\n",
      " [0.09364916 0.10369122 0.09970582 0.09396254 0.09582679 0.09911372\n",
      "  0.10608758 0.10736554 0.09713275 0.10346488]\n",
      " [0.09364891 0.10340952 0.10005761 0.09419125 0.09529639 0.09939809\n",
      "  0.10593954 0.10704229 0.09760732 0.10340908]\n",
      " [0.09378298 0.10367263 0.09978768 0.0940382  0.09558186 0.09950069\n",
      "  0.10584864 0.10705548 0.09688799 0.10384385]\n",
      " [0.09368627 0.10362379 0.10013142 0.09390018 0.09517719 0.0994894\n",
      "  0.10618577 0.10671308 0.09731371 0.10377918]\n",
      " [0.09367227 0.10373816 0.10024397 0.09401498 0.09504657 0.09951911\n",
      "  0.10612228 0.10703594 0.09714187 0.10346485]\n",
      " [0.09391624 0.10340565 0.09953655 0.09421932 0.09547652 0.09979633\n",
      "  0.10577589 0.10726977 0.09724596 0.10335777]\n",
      " [0.09407647 0.10380617 0.09981627 0.0939589  0.09545733 0.09903505\n",
      "  0.10592438 0.10710755 0.09715455 0.10366333]\n",
      " [0.09379759 0.10366176 0.10005398 0.09416011 0.09515895 0.09954029\n",
      "  0.10593752 0.10693894 0.09706759 0.10368326]\n",
      " [0.09376089 0.1036182  0.09998782 0.09405669 0.09533212 0.09924497\n",
      "  0.10590679 0.1074091  0.09728125 0.10340217]\n",
      " [0.09393645 0.10342282 0.09979506 0.09412012 0.09562703 0.09936163\n",
      "  0.1058819  0.10681152 0.09738901 0.10365447]\n",
      " [0.09378608 0.10352606 0.1002283  0.09395444 0.09516285 0.09940614\n",
      "  0.10581615 0.10718618 0.09714994 0.10378385]\n",
      " [0.09368927 0.10350153 0.10002863 0.09405935 0.09535038 0.09885902\n",
      "  0.10617024 0.10699891 0.09763479 0.10370788]\n",
      " [0.093573   0.10383435 0.09963925 0.09399621 0.09529787 0.09903958\n",
      "  0.10623236 0.10707572 0.09712511 0.10418656]\n",
      " [0.09369405 0.10373413 0.09977772 0.09417999 0.09542332 0.09922499\n",
      "  0.10642038 0.10693071 0.09717274 0.10344198]\n",
      " [0.09353624 0.10371107 0.09986863 0.09421416 0.09534761 0.09939431\n",
      "  0.10592879 0.10716959 0.0971488  0.1036808 ]\n",
      " [0.09361592 0.10400256 0.10005613 0.09399981 0.09572145 0.09919455\n",
      "  0.10586947 0.10701031 0.09682886 0.10370093]\n",
      " [0.09343064 0.10370039 0.10002136 0.09411841 0.09587489 0.09929672\n",
      "  0.10603983 0.10690343 0.09709783 0.10351651]\n",
      " [0.09400888 0.10394522 0.10007203 0.09414745 0.09546321 0.09906348\n",
      "  0.10572231 0.10688453 0.09731925 0.10337364]\n",
      " [0.09423279 0.10335607 0.09987027 0.09412093 0.09509231 0.09969568\n",
      "  0.10581819 0.1072324  0.09699275 0.10358862]\n",
      " [0.09366629 0.10320455 0.09965503 0.09417013 0.09522956 0.09936234\n",
      "  0.10646847 0.10724121 0.09739648 0.10360592]\n",
      " [0.09387689 0.103777   0.0999151  0.09400751 0.0950045  0.09905804\n",
      "  0.10617429 0.10711019 0.09706747 0.10400901]\n",
      " [0.09390502 0.10352243 0.10009489 0.09403292 0.09516894 0.09942513\n",
      "  0.10594265 0.10709835 0.097272   0.10353768]\n",
      " [0.09399798 0.10337497 0.09998121 0.09417154 0.09545231 0.09925089\n",
      "  0.10588986 0.10729502 0.09700649 0.10357972]\n",
      " [0.09357865 0.10333744 0.0998897  0.09399071 0.0955753  0.0993019\n",
      "  0.1060928  0.10728731 0.09735118 0.103595  ]\n",
      " [0.09395238 0.10371478 0.10011351 0.09402496 0.09535854 0.0990991\n",
      "  0.10593003 0.10667118 0.09742924 0.10370628]\n",
      " [0.09378803 0.10368747 0.09988204 0.09428329 0.09518328 0.09943307\n",
      "  0.10625708 0.10698943 0.09679482 0.10370148]\n",
      " [0.09401003 0.10328861 0.10009685 0.09397706 0.09525794 0.0992546\n",
      "  0.10603766 0.10721522 0.09728226 0.10357977]]\n"
     ]
    }
   ],
   "source": [
    "x = np.random.rand(100, 784)\n",
    "print(x.shape)\n",
    "y = net.predict(x)\n",
    "print(y)"
   ]
  },
  {
   "cell_type": "code",
   "execution_count": 77,
   "id": "9104f1a6",
   "metadata": {},
   "outputs": [
    {
     "name": "stdout",
     "output_type": "stream",
     "text": [
      "(784, 100)\n",
      "(100,)\n",
      "(100, 10)\n",
      "(10,)\n"
     ]
    }
   ],
   "source": [
    "x = np.random.rand(100, 784)\n",
    "t = np.random.rand(100, 10)\n",
    "\n",
    "grads = net.numerical_gradient(x, t)\n",
    "print(grads['W1'].shape)\n",
    "print(grads['b1'].shape)\n",
    "print(grads['W2'].shape)\n",
    "print(grads['b2'].shape)"
   ]
  },
  {
   "cell_type": "code",
   "execution_count": null,
   "id": "7bc746f6",
   "metadata": {},
   "outputs": [],
   "source": []
  }
 ],
 "metadata": {
  "kernelspec": {
   "display_name": "Python 3 (ipykernel)",
   "language": "python",
   "name": "python3"
  },
  "language_info": {
   "codemirror_mode": {
    "name": "ipython",
    "version": 3
   },
   "file_extension": ".py",
   "mimetype": "text/x-python",
   "name": "python",
   "nbconvert_exporter": "python",
   "pygments_lexer": "ipython3",
   "version": "3.10.9"
  }
 },
 "nbformat": 4,
 "nbformat_minor": 5
}
